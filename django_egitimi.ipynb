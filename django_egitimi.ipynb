{
 "cells": [
  {
   "cell_type": "markdown",
   "metadata": {},
   "source": [
    "# AB2017 Django Eğitimi\n",
    "### PEPs(Python Enhacement Proposals)\n",
    "\n",
    "Bu yapı python ortamında yazılan prı-ogramların belli bir standartta olasını düzenlemektedir. Bu alanda farklı PEP statandartları yer almaktadır ve bunlardan biride PEP 8 standartıdır. Bu satndartın açıklımı <b> \"Style Guide For Python Code\"</b> dir. Yani bir payton kodu nasıl yazılmalı bunu belirler. Örneğin; <b> class </b> isimleri büyük harflerle başlar, iki class arasında 2 satırlık boşluk olmalı gibi standartları belirler."
   ]
  },
  {
   "cell_type": "markdown",
   "metadata": {},
   "source": [
    "#### Note:\n",
    "Django temeli <b> MVC (Model View Control) </b> yapısı üzerine kurulmuş ve <b>MVT (Model View Templete) </b> yapısını kullanmaktadır."
   ]
  },
  {
   "cell_type": "markdown",
   "metadata": {},
   "source": [
    "### Django ile Web Geliştirme\n",
    "\n",
    "Django ile uygulama geliştirilirken önce proje oluşturmak gereklidir. Bu işlem yapan kod parçası aşağıda verilmiştir.\n",
    "\n",
    "<pre>\n",
    "<b>$django-admin startproject proje_adi</b>\n",
    "</pre>\n",
    "\n",
    "Bu adımdan sonra <b>merhaba_dunya</b> adlı bir proje oluşacak ve projenin ağaç yapısı aşağıdaki gibidir. \n",
    "\n",
    "<pre>\n",
    ">>> proje_adi\n",
    "        proje_adi\n",
    "          __init__.py\n",
    "          setting.py\n",
    "          urls.py\n",
    "          wsgi.py\n",
    "        manage.py\n",
    "</pre>\n",
    "\n",
    "<b>Not:</b> Django'da proje oluştururken verdiğimiz isim ile oluşan projenin oluştuğu ilk yani ana klasörün ismi istenirse değiştirilebilinir. Yani bu tamamen projeyi bir arata tutan kapsül gibidir ama ikinci klasörün (proje ismi ile aynı olan içteki klasör) ismi değiştirilemez.\n",
    "\n",
    "<b>Not:</b> Ayrıca Djangoda birden fazla veritabanı bağlantısı yapılabilinir ama verdiği veritabanı destekleri içerisinde Nosql veri tabanları yok bunu developer kendi eklemek isterse gerekli configure işlemlerini yapmalı ve bağlantıyı sağlamalıdır. Fakat burumda Django güvelnlik ve gerekli ayarlamaların garantisini vermemektedir. \n"
   ]
  },
  {
   "cell_type": "markdown",
   "metadata": {},
   "source": [
    "<b>$cd proje_adi</b>\n",
    "\n",
    "Artık projemiz çalışmaya hazır haldedir. Projeyi çalıştırmak için aşağıdaki komudu çalıştırın.\n",
    "<pre><b>\n",
    "$python manage.py runserver\n",
    "</b></pre>"
   ]
  },
  {
   "cell_type": "markdown",
   "metadata": {},
   "source": [
    "## app oluşturma\n",
    "\n",
    "django'da bir proje ierisinde farklı app'ler oluşturabilirsiniz. Bunun için;\n",
    "\n",
    "<pre><b>$python manage.py startapp app_adi</b></pre>\n",
    "\n",
    "<b>Not:</b> Oluşan app içerisinde <b>urls.py</b> dosyası yok eğer bir url yönlendirme işlemi yapılacaksa manule olarak bu eklenmelidir."
   ]
  },
  {
   "cell_type": "markdown",
   "metadata": {},
   "source": [
    "<b>Not:</b>urls.py dosyası içerisinde url'ler yazarken reguler ifadeler kullanılır ve bu kullanımlar çok önemlidir. Bazı önemli reguler ifadeler vardır. Bunlardan biri dolar işereti. Bu ifadenin anlamı daha sonra bir başka bir string gelmeyecek anlamına gelmektedir. Yani kısacası <b>url('$', views.firstApp)</b> url adresinin karşılığı <b> localhost:8000/</b> adresine ya da url'sine denk gelir."
   ]
  },
  {
   "cell_type": "markdown",
   "metadata": {},
   "source": [
    "### views.py \n",
    "Bir <b>view.py</b> dosyası içerisindeki fonksiyonlar genelde bir parametre alır ve bu parametre PEP standartlarına göre <b>request</b> değişkeni kullanılır. Bu değişken kullanılarak gelen istek içerisindeki bazı bilgilere ulaşmamıza olanak sağlamaktadır. Bu bilgilerden bazıları;\n",
    "\n",
    "<pre>\n",
    "request.body #bu post işlemleri ile gelen bilgi\n",
    "request.META \n",
    "request.content_type\n",
    ".\n",
    ".\n",
    ".\n",
    "</pre>\n",
    "\n",
    "<b>request.META</b> değişkeni içlerinden en önemli olanlardan biridir. Bu bilgi ile gönderdiğimiz dökümanın hangi port kullandığı, hangi browser'da çalıştığı gibi bir çok bilgiye ulaşmanızı sağlar. "
   ]
  },
  {
   "cell_type": "markdown",
   "metadata": {},
   "source": [
    "### models.py\n",
    "\n",
    "models.py dosyası içerisinde veri tabanımızın tasarımını yapabileceğimiz bir file'dir. Burada tasarladımız veri tabanlarımızın düzenleyen ve eğer daha önce bir veri tabanı oluşturmuş ve bunun üzerinde bir değişiklik yaptıysak bunun düzenlenmesi gibi işlemleri yapan <b>migrasion</b> işlemi gerçekleştirilmektedir. Bu alanda kullanılan temel komutlar şunlardır.\n",
    "<b>\n",
    "<pre>\n",
    "python manage.py makemigrations # migrate scrip'ni hazırlar\n",
    "python manage.py migrate # Hazırlanan migration sicripleri kullanarak database hazırlama\n",
    "python manage.py showmigrations # hangi dosyalara migration işlemi yapıldı hangilerine yapılmadı görebilirsiniz\n",
    "python manage.py sqlmigrate app_adi 0001_initial #sql tablolarını yaptığımız modele göre oluşturu.\n",
    "</pre>\n",
    "</b>"
   ]
  },
  {
   "cell_type": "code",
   "execution_count": null,
   "metadata": {
    "collapsed": true
   },
   "outputs": [],
   "source": []
  }
 ],
 "metadata": {
  "kernelspec": {
   "display_name": "Python 2",
   "language": "python",
   "name": "python2"
  },
  "language_info": {
   "codemirror_mode": {
    "name": "ipython",
    "version": 2
   },
   "file_extension": ".py",
   "mimetype": "text/x-python",
   "name": "python",
   "nbconvert_exporter": "python",
   "pygments_lexer": "ipython2",
   "version": "2.7.11"
  }
 },
 "nbformat": 4,
 "nbformat_minor": 0
}
